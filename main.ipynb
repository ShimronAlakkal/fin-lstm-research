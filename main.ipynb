{
 "cells": [
  {
   "cell_type": "markdown",
   "id": "1e1dc625-dae9-488a-982b-82556198dd5b",
   "metadata": {},
   "source": [
    "# Import the core packages\n",
    "> Other dependencies will be imported based on need in the following code cells"
   ]
  },
  {
   "cell_type": "code",
   "execution_count": 1,
   "id": "0307ede4-8fc7-438f-a068-66edfb76f7f7",
   "metadata": {},
   "outputs": [],
   "source": [
    "import pandas as pd\n",
    "import numpy as np\n",
    "import matplotlib.pyplot as plt\n",
    "import yfinance as yf\n",
    "import tensorflow as tf"
   ]
  },
  {
   "cell_type": "markdown",
   "id": "99d02d59-ee39-49a7-bf91-752478cf75b3",
   "metadata": {},
   "source": [
    "# Data Preparation\n",
    "\n",
    "import our dataset -- primary FAANG stock data which include AAPL, NETFLIX, GOOGL, MSFT, AMZN.\n",
    " This dataset has been pre-processed to remove **NaN** values.\n",
    " \n",
    " It could still have problems that could bias the outcome like errors in input, duplication, etc."
   ]
  },
  {
   "cell_type": "code",
   "execution_count": 8,
   "id": "4ac825b7-7f8a-41bb-8d50-7f0f493a23a3",
   "metadata": {},
   "outputs": [],
   "source": [
    "# import all the unclean data for aal five stocks into separate variables \n",
    "uDataAmazon = pd.read_csv('./data/Amazon.csv')\n",
    "uDataApple = pd.read_csv('./data/Apple.csv')\n",
    "uDataGoogle = pd.read_csv('./data/Google.csv')\n",
    "uDataNetflix = pd.read_csv('./data/Netflix.csv')\n",
    "uDataMicrosoft = pd.read_csv('./data/Microsoft.csv')\n",
    "\n",
    "# combine all the temp data values into a list to perform mapping operations\n",
    "uDataList = [ uDataAmazon, uDataApple, uDataGoogle, uDataMicrosoft, uDataNetflix ]"
   ]
  },
  {
   "cell_type": "code",
   "execution_count": 6,
   "id": "762c455f-20ed-46e4-a29a-688cb5b48807",
   "metadata": {},
   "outputs": [
    {
     "data": {
      "text/html": [
       "<div>\n",
       "<style scoped>\n",
       "    .dataframe tbody tr th:only-of-type {\n",
       "        vertical-align: middle;\n",
       "    }\n",
       "\n",
       "    .dataframe tbody tr th {\n",
       "        vertical-align: top;\n",
       "    }\n",
       "\n",
       "    .dataframe thead th {\n",
       "        text-align: right;\n",
       "    }\n",
       "</style>\n",
       "<table border=\"1\" class=\"dataframe\">\n",
       "  <thead>\n",
       "    <tr style=\"text-align: right;\">\n",
       "      <th></th>\n",
       "      <th>Open</th>\n",
       "      <th>High</th>\n",
       "      <th>Low</th>\n",
       "      <th>Close</th>\n",
       "      <th>Adj Close</th>\n",
       "      <th>Volume</th>\n",
       "    </tr>\n",
       "  </thead>\n",
       "  <tbody>\n",
       "    <tr>\n",
       "      <th>count</th>\n",
       "      <td>4677.000000</td>\n",
       "      <td>4677.000000</td>\n",
       "      <td>4677.000000</td>\n",
       "      <td>4677.000000</td>\n",
       "      <td>4677.000000</td>\n",
       "      <td>4.677000e+03</td>\n",
       "    </tr>\n",
       "    <tr>\n",
       "      <th>mean</th>\n",
       "      <td>38.255309</td>\n",
       "      <td>38.656113</td>\n",
       "      <td>37.861995</td>\n",
       "      <td>38.265822</td>\n",
       "      <td>38.265822</td>\n",
       "      <td>1.226090e+08</td>\n",
       "    </tr>\n",
       "    <tr>\n",
       "      <th>std</th>\n",
       "      <td>35.540477</td>\n",
       "      <td>35.943265</td>\n",
       "      <td>35.161971</td>\n",
       "      <td>35.555944</td>\n",
       "      <td>35.555944</td>\n",
       "      <td>1.529406e+08</td>\n",
       "    </tr>\n",
       "    <tr>\n",
       "      <th>min</th>\n",
       "      <td>2.470490</td>\n",
       "      <td>2.534002</td>\n",
       "      <td>2.390042</td>\n",
       "      <td>2.490913</td>\n",
       "      <td>2.490913</td>\n",
       "      <td>1.584340e+05</td>\n",
       "    </tr>\n",
       "    <tr>\n",
       "      <th>25%</th>\n",
       "      <td>12.657307</td>\n",
       "      <td>12.771629</td>\n",
       "      <td>12.487195</td>\n",
       "      <td>12.640869</td>\n",
       "      <td>12.640869</td>\n",
       "      <td>2.968400e+07</td>\n",
       "    </tr>\n",
       "    <tr>\n",
       "      <th>50%</th>\n",
       "      <td>25.577278</td>\n",
       "      <td>25.772150</td>\n",
       "      <td>25.253166</td>\n",
       "      <td>25.534290</td>\n",
       "      <td>25.534290</td>\n",
       "      <td>6.698614e+07</td>\n",
       "    </tr>\n",
       "    <tr>\n",
       "      <th>75%</th>\n",
       "      <td>54.528500</td>\n",
       "      <td>55.233501</td>\n",
       "      <td>53.894001</td>\n",
       "      <td>54.546501</td>\n",
       "      <td>54.546501</td>\n",
       "      <td>1.527946e+08</td>\n",
       "    </tr>\n",
       "    <tr>\n",
       "      <th>max</th>\n",
       "      <td>151.863495</td>\n",
       "      <td>152.100006</td>\n",
       "      <td>149.887497</td>\n",
       "      <td>150.709000</td>\n",
       "      <td>150.709000</td>\n",
       "      <td>1.650833e+09</td>\n",
       "    </tr>\n",
       "  </tbody>\n",
       "</table>\n",
       "</div>"
      ],
      "text/plain": [
       "              Open         High          Low        Close    Adj Close  \\\n",
       "count  4677.000000  4677.000000  4677.000000  4677.000000  4677.000000   \n",
       "mean     38.255309    38.656113    37.861995    38.265822    38.265822   \n",
       "std      35.540477    35.943265    35.161971    35.555944    35.555944   \n",
       "min       2.470490     2.534002     2.390042     2.490913     2.490913   \n",
       "25%      12.657307    12.771629    12.487195    12.640869    12.640869   \n",
       "50%      25.577278    25.772150    25.253166    25.534290    25.534290   \n",
       "75%      54.528500    55.233501    53.894001    54.546501    54.546501   \n",
       "max     151.863495   152.100006   149.887497   150.709000   150.709000   \n",
       "\n",
       "             Volume  \n",
       "count  4.677000e+03  \n",
       "mean   1.226090e+08  \n",
       "std    1.529406e+08  \n",
       "min    1.584340e+05  \n",
       "25%    2.968400e+07  \n",
       "50%    6.698614e+07  \n",
       "75%    1.527946e+08  \n",
       "max    1.650833e+09  "
      ]
     },
     "execution_count": 6,
     "metadata": {},
     "output_type": "execute_result"
    }
   ],
   "source": [
    "# view a discription of the data \n",
    "uDataGoogle.describe()"
   ]
  },
  {
   "cell_type": "code",
   "execution_count": 10,
   "id": "4d2f846d-ca94-4fd0-9b89-3b7969d628a0",
   "metadata": {},
   "outputs": [
    {
     "data": {
      "text/plain": [
       "[[0, 0, 0, 0, 0, 0, 0],\n",
       " [0, 0, 0, 0, 0, 0, 0],\n",
       " [0, 0, 0, 0, 0, 0, 0],\n",
       " [0, 0, 0, 0, 0, 0, 0],\n",
       " [0, 0, 0, 0, 0, 0, 0]]"
      ]
     },
     "execution_count": 10,
     "metadata": {},
     "output_type": "execute_result"
    }
   ],
   "source": [
    "# Check for NaN values in each column of each unclean dataset\n",
    "nan_counts = [ list(data.isna().sum()) for data in uDataList ]\n",
    "nan_counts"
   ]
  },
  {
   "cell_type": "code",
   "execution_count": 11,
   "id": "2f1c89f0-dfb1-473e-9c93-9190f73ce8db",
   "metadata": {},
   "outputs": [
    {
     "data": {
      "text/plain": [
       "[0, 0, 0, 0, 0]"
      ]
     },
     "execution_count": 11,
     "metadata": {},
     "output_type": "execute_result"
    }
   ],
   "source": [
    "# duplicate data count detection in data \n",
    "duplicates_per_df = [ df.duplicated().sum() for df in uDataList ]\n",
    "duplicates_per_df"
   ]
  },
  {
   "cell_type": "markdown",
   "id": "7e083ecd-e7d1-40ef-9897-87bd16561ee8",
   "metadata": {},
   "source": [
    "# Visual of the complete data of all five datasets\n",
    "This is done before splitting the data into training and testing sets\n"
   ]
  },
  {
   "cell_type": "code",
   "execution_count": null,
   "id": "1c0cba8c-6540-4c32-aeec-30b4771f58e1",
   "metadata": {},
   "outputs": [],
   "source": []
  }
 ],
 "metadata": {
  "kernelspec": {
   "display_name": "Python 3 (ipykernel)",
   "language": "python",
   "name": "python3"
  },
  "language_info": {
   "codemirror_mode": {
    "name": "ipython",
    "version": 3
   },
   "file_extension": ".py",
   "mimetype": "text/x-python",
   "name": "python",
   "nbconvert_exporter": "python",
   "pygments_lexer": "ipython3",
   "version": "3.10.13"
  }
 },
 "nbformat": 4,
 "nbformat_minor": 5
}
