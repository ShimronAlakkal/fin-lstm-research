{
 "cells": [
  {
   "cell_type": "markdown",
   "id": "1e1dc625-dae9-488a-982b-82556198dd5b",
   "metadata": {},
   "source": [
    "# Import the core packages\n",
    "> Other dependencies will be imported based on need in the following code cells"
   ]
  },
  {
   "cell_type": "code",
   "execution_count": 1,
   "id": "0307ede4-8fc7-438f-a068-66edfb76f7f7",
   "metadata": {},
   "outputs": [],
   "source": [
    "import pandas as pd\n",
    "import numpy as np\n",
    "import matplotlib.pyplot as plt\n",
    "import yfinance as yf\n",
    "import tensorflow as tf"
   ]
  },
  {
   "cell_type": "markdown",
   "id": "99d02d59-ee39-49a7-bf91-752478cf75b3",
   "metadata": {},
   "source": [
    "# Data Preparation\n",
    "\n",
    "import our dataset -- primary FAANG stock data which include AAPL, NETFLIX, GOOGL, MSFT, AMZN.\n",
    " This dataset has been pre-processed to remove **NaN** values.\n",
    " \n",
    " It could still have problems that could bias the outcome like errors in input, duplication, etc."
   ]
  },
  {
   "cell_type": "code",
   "execution_count": 2,
   "id": "4ac825b7-7f8a-41bb-8d50-7f0f493a23a3",
   "metadata": {},
   "outputs": [],
   "source": [
    "# import all the unclean data for aal five stocks into separate variables \n",
    "uDataAmazon = pd.read_csv('./data/Amazon.csv')\n",
    "uDataApple = pd.read_csv('./data/Apple.csv')\n",
    "uDataGoogle = pd.read_csv('./data/Google.csv')\n",
    "uDataNetflix = pd.read_csv('./data/Netflix.csv')\n",
    "uDataMicrosoft = pd.read_csv('./data/Microsoft.csv')\n",
    "\n",
    "# combine all the temp data values into a list to perform mapping operations\n",
    "uDataList = [ uDataAmazon, uDataApple, uDataGoogle, uDataMicrosoft, uDataNetflix ]"
   ]
  },
  {
   "cell_type": "code",
   "execution_count": 6,
   "id": "c1a1aa71-7184-4272-a4c1-4fdd7dca1777",
   "metadata": {},
   "outputs": [
    {
     "data": {
      "text/html": [
       "<div>\n",
       "<style scoped>\n",
       "    .dataframe tbody tr th:only-of-type {\n",
       "        vertical-align: middle;\n",
       "    }\n",
       "\n",
       "    .dataframe tbody tr th {\n",
       "        vertical-align: top;\n",
       "    }\n",
       "\n",
       "    .dataframe thead th {\n",
       "        text-align: right;\n",
       "    }\n",
       "</style>\n",
       "<table border=\"1\" class=\"dataframe\">\n",
       "  <thead>\n",
       "    <tr style=\"text-align: right;\">\n",
       "      <th></th>\n",
       "      <th>Open</th>\n",
       "      <th>High</th>\n",
       "      <th>Low</th>\n",
       "      <th>Close</th>\n",
       "      <th>Adj Close</th>\n",
       "      <th>Volume</th>\n",
       "      <th>Date</th>\n",
       "    </tr>\n",
       "  </thead>\n",
       "  <tbody>\n",
       "    <tr>\n",
       "      <th>0</th>\n",
       "      <td>4.075000</td>\n",
       "      <td>4.478125</td>\n",
       "      <td>3.952344</td>\n",
       "      <td>4.468750</td>\n",
       "      <td>4.468750</td>\n",
       "      <td>322352000</td>\n",
       "      <td>2000-01-03</td>\n",
       "    </tr>\n",
       "    <tr>\n",
       "      <th>1</th>\n",
       "      <td>4.268750</td>\n",
       "      <td>4.575000</td>\n",
       "      <td>4.087500</td>\n",
       "      <td>4.096875</td>\n",
       "      <td>4.096875</td>\n",
       "      <td>349748000</td>\n",
       "      <td>2000-01-04</td>\n",
       "    </tr>\n",
       "    <tr>\n",
       "      <th>2</th>\n",
       "      <td>3.525000</td>\n",
       "      <td>3.756250</td>\n",
       "      <td>3.400000</td>\n",
       "      <td>3.487500</td>\n",
       "      <td>3.487500</td>\n",
       "      <td>769148000</td>\n",
       "      <td>2000-01-05</td>\n",
       "    </tr>\n",
       "    <tr>\n",
       "      <th>3</th>\n",
       "      <td>3.565625</td>\n",
       "      <td>3.634375</td>\n",
       "      <td>3.200000</td>\n",
       "      <td>3.278125</td>\n",
       "      <td>3.278125</td>\n",
       "      <td>375040000</td>\n",
       "      <td>2000-01-06</td>\n",
       "    </tr>\n",
       "    <tr>\n",
       "      <th>4</th>\n",
       "      <td>3.350000</td>\n",
       "      <td>3.525000</td>\n",
       "      <td>3.309375</td>\n",
       "      <td>3.478125</td>\n",
       "      <td>3.478125</td>\n",
       "      <td>210108000</td>\n",
       "      <td>2000-01-07</td>\n",
       "    </tr>\n",
       "  </tbody>\n",
       "</table>\n",
       "</div>"
      ],
      "text/plain": [
       "       Open      High       Low     Close  Adj Close     Volume        Date\n",
       "0  4.075000  4.478125  3.952344  4.468750   4.468750  322352000  2000-01-03\n",
       "1  4.268750  4.575000  4.087500  4.096875   4.096875  349748000  2000-01-04\n",
       "2  3.525000  3.756250  3.400000  3.487500   3.487500  769148000  2000-01-05\n",
       "3  3.565625  3.634375  3.200000  3.278125   3.278125  375040000  2000-01-06\n",
       "4  3.350000  3.525000  3.309375  3.478125   3.478125  210108000  2000-01-07"
      ]
     },
     "execution_count": 6,
     "metadata": {},
     "output_type": "execute_result"
    }
   ],
   "source": [
    "# view what the data looks like\n",
    "uDataAmazon.head()"
   ]
  },
  {
   "cell_type": "code",
   "execution_count": 3,
   "id": "762c455f-20ed-46e4-a29a-688cb5b48807",
   "metadata": {},
   "outputs": [
    {
     "data": {
      "text/html": [
       "<div>\n",
       "<style scoped>\n",
       "    .dataframe tbody tr th:only-of-type {\n",
       "        vertical-align: middle;\n",
       "    }\n",
       "\n",
       "    .dataframe tbody tr th {\n",
       "        vertical-align: top;\n",
       "    }\n",
       "\n",
       "    .dataframe thead th {\n",
       "        text-align: right;\n",
       "    }\n",
       "</style>\n",
       "<table border=\"1\" class=\"dataframe\">\n",
       "  <thead>\n",
       "    <tr style=\"text-align: right;\">\n",
       "      <th></th>\n",
       "      <th>Open</th>\n",
       "      <th>High</th>\n",
       "      <th>Low</th>\n",
       "      <th>Close</th>\n",
       "      <th>Adj Close</th>\n",
       "      <th>Volume</th>\n",
       "    </tr>\n",
       "  </thead>\n",
       "  <tbody>\n",
       "    <tr>\n",
       "      <th>count</th>\n",
       "      <td>4677.000000</td>\n",
       "      <td>4677.000000</td>\n",
       "      <td>4677.000000</td>\n",
       "      <td>4677.000000</td>\n",
       "      <td>4677.000000</td>\n",
       "      <td>4.677000e+03</td>\n",
       "    </tr>\n",
       "    <tr>\n",
       "      <th>mean</th>\n",
       "      <td>38.255309</td>\n",
       "      <td>38.656113</td>\n",
       "      <td>37.861995</td>\n",
       "      <td>38.265822</td>\n",
       "      <td>38.265822</td>\n",
       "      <td>1.226090e+08</td>\n",
       "    </tr>\n",
       "    <tr>\n",
       "      <th>std</th>\n",
       "      <td>35.540477</td>\n",
       "      <td>35.943265</td>\n",
       "      <td>35.161971</td>\n",
       "      <td>35.555944</td>\n",
       "      <td>35.555944</td>\n",
       "      <td>1.529406e+08</td>\n",
       "    </tr>\n",
       "    <tr>\n",
       "      <th>min</th>\n",
       "      <td>2.470490</td>\n",
       "      <td>2.534002</td>\n",
       "      <td>2.390042</td>\n",
       "      <td>2.490913</td>\n",
       "      <td>2.490913</td>\n",
       "      <td>1.584340e+05</td>\n",
       "    </tr>\n",
       "    <tr>\n",
       "      <th>25%</th>\n",
       "      <td>12.657307</td>\n",
       "      <td>12.771629</td>\n",
       "      <td>12.487195</td>\n",
       "      <td>12.640869</td>\n",
       "      <td>12.640869</td>\n",
       "      <td>2.968400e+07</td>\n",
       "    </tr>\n",
       "    <tr>\n",
       "      <th>50%</th>\n",
       "      <td>25.577278</td>\n",
       "      <td>25.772150</td>\n",
       "      <td>25.253166</td>\n",
       "      <td>25.534290</td>\n",
       "      <td>25.534290</td>\n",
       "      <td>6.698614e+07</td>\n",
       "    </tr>\n",
       "    <tr>\n",
       "      <th>75%</th>\n",
       "      <td>54.528500</td>\n",
       "      <td>55.233501</td>\n",
       "      <td>53.894001</td>\n",
       "      <td>54.546501</td>\n",
       "      <td>54.546501</td>\n",
       "      <td>1.527946e+08</td>\n",
       "    </tr>\n",
       "    <tr>\n",
       "      <th>max</th>\n",
       "      <td>151.863495</td>\n",
       "      <td>152.100006</td>\n",
       "      <td>149.887497</td>\n",
       "      <td>150.709000</td>\n",
       "      <td>150.709000</td>\n",
       "      <td>1.650833e+09</td>\n",
       "    </tr>\n",
       "  </tbody>\n",
       "</table>\n",
       "</div>"
      ],
      "text/plain": [
       "              Open         High          Low        Close    Adj Close  \\\n",
       "count  4677.000000  4677.000000  4677.000000  4677.000000  4677.000000   \n",
       "mean     38.255309    38.656113    37.861995    38.265822    38.265822   \n",
       "std      35.540477    35.943265    35.161971    35.555944    35.555944   \n",
       "min       2.470490     2.534002     2.390042     2.490913     2.490913   \n",
       "25%      12.657307    12.771629    12.487195    12.640869    12.640869   \n",
       "50%      25.577278    25.772150    25.253166    25.534290    25.534290   \n",
       "75%      54.528500    55.233501    53.894001    54.546501    54.546501   \n",
       "max     151.863495   152.100006   149.887497   150.709000   150.709000   \n",
       "\n",
       "             Volume  \n",
       "count  4.677000e+03  \n",
       "mean   1.226090e+08  \n",
       "std    1.529406e+08  \n",
       "min    1.584340e+05  \n",
       "25%    2.968400e+07  \n",
       "50%    6.698614e+07  \n",
       "75%    1.527946e+08  \n",
       "max    1.650833e+09  "
      ]
     },
     "execution_count": 3,
     "metadata": {},
     "output_type": "execute_result"
    }
   ],
   "source": [
    "# view a discription of the data \n",
    "uDataGoogle.describe()"
   ]
  },
  {
   "cell_type": "code",
   "execution_count": 4,
   "id": "4d2f846d-ca94-4fd0-9b89-3b7969d628a0",
   "metadata": {},
   "outputs": [
    {
     "data": {
      "text/plain": [
       "[[0, 0, 0, 0, 0, 0, 0],\n",
       " [0, 0, 0, 0, 0, 0, 0],\n",
       " [0, 0, 0, 0, 0, 0, 0],\n",
       " [0, 0, 0, 0, 0, 0, 0],\n",
       " [0, 0, 0, 0, 0, 0, 0]]"
      ]
     },
     "execution_count": 4,
     "metadata": {},
     "output_type": "execute_result"
    }
   ],
   "source": [
    "# Check for NaN values in each column of each unclean dataset\n",
    "nan_counts = [ list(data.isna().sum()) for data in uDataList ]\n",
    "nan_counts"
   ]
  },
  {
   "cell_type": "code",
   "execution_count": 5,
   "id": "2f1c89f0-dfb1-473e-9c93-9190f73ce8db",
   "metadata": {},
   "outputs": [
    {
     "data": {
      "text/plain": [
       "[0, 0, 0, 0, 0]"
      ]
     },
     "execution_count": 5,
     "metadata": {},
     "output_type": "execute_result"
    }
   ],
   "source": [
    "# duplicate data count detection in data \n",
    "duplicates_per_df = [ df.duplicated().sum() for df in uDataList ]\n",
    "duplicates_per_df"
   ]
  },
  {
   "cell_type": "markdown",
   "id": "7e083ecd-e7d1-40ef-9897-87bd16561ee8",
   "metadata": {},
   "source": [
    "# Visual of the complete data of all five datasets\n",
    "This is done before splitting the data into training and testing sets\n"
   ]
  },
  {
   "cell_type": "code",
   "execution_count": 10,
   "id": "1c0cba8c-6540-4c32-aeec-30b4771f58e1",
   "metadata": {},
   "outputs": [
    {
     "data": {
      "image/png": "[encoded data removed]",
      "text/plain": [
       "<Figure size 640x480 with 6 Axes>"
      ]
     },
     "metadata": {},
     "output_type": "display_data"
    }
   ],
   "source": [
    "# Initialise the subplot function using number of rows and columns \n",
    "figure, axis = plt.subplots(3, 2) \n",
    "  \n",
    "# For Google's closing Function (using a step of 100 to render it better)\n",
    "axis[0, 0].plot( uDataGoogle['Date'][0:len(uDataGoogle):100], uDataGoogle['Close'][0:len(uDataGoogle):100]) \n",
    "axis[0, 0].set_title(\"Google Closing\", rotation = 45) \n",
    "\n",
    "# For Amazon's closing Function (using a step of 100 to render it better)\n",
    "axis[0, 1].plot( uDataAmazon['Date'][0:len(uDataAmazon):100], uDataAmazon['Close'][0:len(uDataAmazon):100]) \n",
    "axis[0, 1].set_title(\"Amazon Closing\", rotation = 45) \n",
    "\n",
    "# For Apple's closing Function (using a step of 100 to render it better)\n",
    "axis[1, 0].plot( uDataApple['Date'][0:len(uDataApple):100], uDataApple['Close'][0:len(uDataApple):100]) \n",
    "axis[1, 0].set_title(\"Apple Closing\", rotation = 45) \n",
    "  \n",
    "# For Microsoft's closing Function (using a step of 100 to render it better)\n",
    "axis[1, 1].plot( uDataMicrosoft['Date'][0:len(uDataMicrosoft):100], uDataMicrosoft['Close'][0:len(uDataMicrosoft):100]) \n",
    "axis[1, 1].set_title(\"MSFT Closing\", rotation = 45) \n",
    "\n",
    "# For Netflix's closing Function (using a step of 100 to render it better)\n",
    "axis[2, 0].plot( uDataNetflix['Date'][0:len(uDataNetflix):100], uDataNetflix['Close'][0:len(uDataNetflix):100]) \n",
    "axis[2, 0].set_title(\"Netflix Closing\", rotation = 45) \n",
    "  \n",
    "# Combine all the operations and display \n",
    "plt.show() "
   ]
  },
  {
   "cell_type": "code",
   "execution_count": null,
   "id": "4dbbab30-4a60-4b5f-a287-e706dfcd1d3f",
   "metadata": {},
   "outputs": [],
   "source": []
  }
 ],
 "metadata": {
  "kernelspec": {
   "display_name": "Python 3 (ipykernel)",
   "language": "python",
   "name": "python3"
  },
  "language_info": {
   "codemirror_mode": {
    "name": "ipython",
    "version": 3
   },
   "file_extension": ".py",
   "mimetype": "text/x-python",
   "name": "python",
   "nbconvert_exporter": "python",
   "pygments_lexer": "ipython3",
   "version": "3.10.13"
  }
 },
 "nbformat": 4,
 "nbformat_minor": 5
}
